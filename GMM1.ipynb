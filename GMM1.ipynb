{
  "nbformat": 4,
  "nbformat_minor": 0,
  "metadata": {
    "colab": {
      "provenance": [],
      "gpuType": "T4",
      "authorship_tag": "ABX9TyMpT7qv1wmb8NxI7xoDBUk8",
      "include_colab_link": true
    },
    "kernelspec": {
      "name": "python3",
      "display_name": "Python 3"
    },
    "language_info": {
      "name": "python"
    },
    "accelerator": "GPU"
  },
  "cells": [
    {
      "cell_type": "markdown",
      "metadata": {
        "id": "view-in-github",
        "colab_type": "text"
      },
      "source": [
        "<a href=\"https://colab.research.google.com/github/PaulinaIvan/GMM/blob/master/GMM1.ipynb\" target=\"_parent\"><img src=\"https://colab.research.google.com/assets/colab-badge.svg\" alt=\"Open In Colab\"/></a>"
      ]
    },
    {
      "cell_type": "markdown",
      "source": [
        "*   Autorius: Paulina Ivanauskaitė\n",
        "*   LSP: 2213728\n",
        "*   Variantas: Naudotas ResNet50 modelis su liūto, tigro ir leopardo klasėmis"
      ],
      "metadata": {
        "id": "nobmE6Sh-XYg"
      }
    },
    {
      "cell_type": "code",
      "source": [
        "from google.colab import drive\n",
        "drive.mount('/content/drive')"
      ],
      "metadata": {
        "colab": {
          "base_uri": "https://localhost:8080/"
        },
        "id": "imWyZ_djkYkr",
        "outputId": "a0d228c1-c95e-4c6f-ee1c-b32d6ee5847d"
      },
      "execution_count": 1,
      "outputs": [
        {
          "output_type": "stream",
          "name": "stdout",
          "text": [
            "Mounted at /content/drive\n"
          ]
        }
      ]
    },
    {
      "cell_type": "code",
      "source": [
        "import torch\n",
        "from torch.utils.data import Dataset, DataLoader\n",
        "from torchvision.io import read_image\n",
        "from torchvision.models import resnet50, ResNet50_Weights\n",
        "from pathlib import Path\n",
        "from tqdm import tqdm\n",
        "import matplotlib.pyplot as plt\n",
        "import numpy as np\n",
        "import PIL.Image\n",
        "import torchvision.transforms as transforms"
      ],
      "metadata": {
        "id": "iB8rsNFXlVON"
      },
      "execution_count": 16,
      "outputs": []
    },
    {
      "cell_type": "markdown",
      "source": [
        "Dataset preprocesuoja (paverčia į RGB ir transformuoja) nuotraukas, dirba kartu su dataloader. Įgyvendintos pagrindinės funkcijos reikalingos Dataset klasės inicializavimui (init, len ir getitem)"
      ],
      "metadata": {
        "id": "clR5fQkWdG06"
      }
    },
    {
      "cell_type": "code",
      "source": [
        "class BigCatDataset(Dataset):\n",
        "    def __init__(self, base_dir, transform):\n",
        "        self.transform = transform\n",
        "        self.samples = []\n",
        "\n",
        "        for cls in ['lion', 'tiger', 'leopard']:\n",
        "            class_path = Path(f\"/content/drive/MyDrive/ColabNotebooks/{base_dir}\")  / cls\n",
        "            if class_path.exists():\n",
        "                self.samples.extend([(str(p), cls) for p in class_path.glob('*.jpg')])\n",
        "\n",
        "        print(f\"Found {len(self.samples)} images\")\n",
        "\n",
        "    def __len__(self):\n",
        "        return len(self.samples)\n",
        "\n",
        "    def __getitem__(self, idx):\n",
        "        img_path, cls = self.samples[idx]\n",
        "        try:\n",
        "            with PIL.Image.open(img_path) as img:\n",
        "                img = img.convert('RGB')\n",
        "                if self.transform:\n",
        "                    img = self.transform(img)\n",
        "                return img, 0, cls\n",
        "        except Exception as e:\n",
        "            print(f\"Error loading {img_path}: {e}\")\n",
        "            return torch.zeros((3, 224, 224)), 0, cls"
      ],
      "metadata": {
        "id": "pyGd3fT7lfdF"
      },
      "execution_count": 17,
      "outputs": []
    },
    {
      "cell_type": "markdown",
      "source": [
        "Inicializuojame modelį (Resnet50), nustatome reikiamas klases."
      ],
      "metadata": {
        "id": "tsYYCNfKd_gJ"
      }
    },
    {
      "cell_type": "code",
      "source": [
        "weights = ResNet50_Weights.DEFAULT\n",
        "model = resnet50(weights=weights)\n",
        "preprocess = weights.transforms()\n",
        "\n",
        "class_indices = {\n",
        "    'lion': weights.meta[\"categories\"].index('lion'),\n",
        "    'tiger': weights.meta[\"categories\"].index('tiger'),\n",
        "    'leopard': weights.meta[\"categories\"].index('leopard')\n",
        "}\n",
        "\n",
        "print(\"Model initialized with class indices:\")\n",
        "for cls, idx in class_indices.items():\n",
        "    print(f\"{cls}: {idx}\")"
      ],
      "metadata": {
        "colab": {
          "base_uri": "https://localhost:8080/"
        },
        "id": "GLddu3VKmvZa",
        "outputId": "537ba5fa-487c-4f6b-e433-c7d5f9ca3838"
      },
      "execution_count": 18,
      "outputs": [
        {
          "output_type": "stream",
          "name": "stdout",
          "text": [
            "Model initialized with class indices:\n",
            "lion: 291\n",
            "tiger: 292\n",
            "leopard: 288\n"
          ]
        }
      ]
    },
    {
      "cell_type": "markdown",
      "source": [
        "Inicializuojame Dataset ir DataLoader. Dataset įgauna direktoriją su nuotraukomis ir transformaciją (šiuo atveju preprocess). DataLoader inicializuojame su norimos reikšmėm (rinkinio dydis, darbuotojų kiekis ir t. t.)"
      ],
      "metadata": {
        "id": "ySTx-D5Dmyaq"
      }
    },
    {
      "cell_type": "code",
      "source": [
        "dataset = BigCatDataset('big_cat_dataset', transform=preprocess)\n",
        "data_loader = DataLoader(\n",
        "    dataset,\n",
        "    batch_size=32,\n",
        "    shuffle=False,\n",
        "    num_workers=1,\n",
        "    prefetch_factor=2,\n",
        "    persistent_workers=True,\n",
        "    multiprocessing_context='fork'\n",
        ")\n",
        "\n",
        "print(f\"Dataset size: {len(dataset)} images\")\n",
        "print(f\"Using {data_loader.num_workers} workers\")\n",
        "print(f\"Using GPU: {torch.cuda.is_available()}\")\n"
      ],
      "metadata": {
        "colab": {
          "base_uri": "https://localhost:8080/"
        },
        "id": "eUEfAL72m-pY",
        "outputId": "2f0853eb-51ea-4d7d-e8c7-5ac5f57a0f53"
      },
      "execution_count": 29,
      "outputs": [
        {
          "output_type": "stream",
          "name": "stdout",
          "text": [
            "Found 1000 images\n",
            "Dataset size: 1000 images\n",
            "Using 1 workers\n",
            "Using GPU: True\n"
          ]
        }
      ]
    },
    {
      "cell_type": "markdown",
      "source": [
        "Susirenkam spėjimus (predictions). Jei naudojome GPU, tada po procesavimo grąžinam spėjimus atgal į CPU."
      ],
      "metadata": {
        "id": "phJIjIkleiZM"
      }
    },
    {
      "cell_type": "code",
      "source": [
        "all_predictions = []\n",
        "all_true_classes = []\n",
        "\n",
        "model.eval()\n",
        "with torch.no_grad():\n",
        "    for batch_images, _, batch_classes in tqdm(data_loader):\n",
        "        if torch.cuda.is_available():\n",
        "            batch_images = batch_images.cuda()\n",
        "            model = model.cuda()\n",
        "        predictions = model(batch_images).softmax(dim=1)\n",
        "        predictions = predictions.cpu()\n",
        "        all_predictions.append(predictions)\n",
        "        all_true_classes.extend(batch_classes)\n",
        "all_predictions = torch.cat(all_predictions, dim=0)\n",
        "\n",
        "results = {\n",
        "    'predictions': all_predictions,\n",
        "    'true_classes': all_true_classes,\n",
        "    'class_indices': class_indices\n",
        "}"
      ],
      "metadata": {
        "id": "kDS3LXDjapaG",
        "outputId": "3ee3eda4-cc5f-42f4-95cc-8cf39b9c6cda",
        "colab": {
          "base_uri": "https://localhost:8080/"
        }
      },
      "execution_count": 30,
      "outputs": [
        {
          "output_type": "stream",
          "name": "stderr",
          "text": [
            "100%|██████████| 32/32 [02:16<00:00,  4.26s/it]\n"
          ]
        }
      ]
    },
    {
      "cell_type": "markdown",
      "source": [
        "Skaičuojame rezultatus, pagal funkcijas:\n",
        "\n",
        "$Accuracy = \\frac{TP + TN}{TP + FP + TN + FN}$\n",
        "\n",
        "$Recall = \\frac{TP}{TP + FN}$\n",
        "\n",
        "$Precision = \\frac{TP}{TP + FP}$\n",
        "\n",
        "$F_1 = 2 \\cdot \\frac{Precision \\cdot Recall}{Precision + Recall}$"
      ],
      "metadata": {
        "id": "XLN4tW-fgNp2"
      }
    },
    {
      "cell_type": "code",
      "source": [
        "def calculate_metrics(threshold):\n",
        "    predictions = results['predictions']\n",
        "    true_classes = results['true_classes']\n",
        "    class_indices = results['class_indices']\n",
        "\n",
        "    classes = ['lion', 'tiger', 'leopard']\n",
        "    metrics = {}\n",
        "\n",
        "    for cls in classes:\n",
        "        idx = class_indices[cls]\n",
        "        pred_values = predictions[:, idx]\n",
        "        pred_binary = (pred_values > threshold)\n",
        "\n",
        "        is_current_class = torch.tensor([label == cls for label in true_classes])\n",
        "\n",
        "        tp = torch.sum((pred_binary) & (is_current_class)).float()\n",
        "        fp = torch.sum((pred_binary) & (~is_current_class)).float()\n",
        "        tn = torch.sum((~pred_binary) & (~is_current_class)).float()\n",
        "        fn = torch.sum((~pred_binary) & (is_current_class)).float()\n",
        "\n",
        "        total = float(len(true_classes))\n",
        "\n",
        "        precision = (tp / (tp + fp)).item() if (tp + fp) > 0 else 0\n",
        "        recall = (tp / (tp + fn)).item() if (tp + fn) > 0 else 0\n",
        "        accuracy = (tp + tn) / total\n",
        "        f1 = 2 * (precision * recall) / (precision + recall) if (precision + recall) > 0 else 0\n",
        "\n",
        "        metrics[cls] = {\n",
        "            'accuracy': accuracy,\n",
        "            'precision': precision,\n",
        "            'recall': recall,\n",
        "            'f1': f1\n",
        "        }\n",
        "\n",
        "    return metrics"
      ],
      "metadata": {
        "id": "xIaZfqEez-R_"
      },
      "execution_count": 13,
      "outputs": []
    },
    {
      "cell_type": "markdown",
      "source": [
        "Šioje vietoje kviečiame statistikos skaičiavimo funkciją (calculate_metrics) su norima slenkstine reikšme (threshold). Rezultatus parodome kiekvienai klasei."
      ],
      "metadata": {
        "id": "P3eWkyr8g1iD"
      }
    },
    {
      "cell_type": "code",
      "source": [
        "threshold = 0.5\n",
        "metrics = calculate_metrics(threshold)\n",
        "\n",
        "print(f\"\\nResults with threshold {threshold}:\")\n",
        "for cls, cls_metrics in metrics.items():\n",
        "    print(f\"\\n{cls.capitalize()}:\")\n",
        "    for metric, value in cls_metrics.items():\n",
        "        print(f\"{metric}: {value:.3f}\")"
      ],
      "metadata": {
        "colab": {
          "base_uri": "https://localhost:8080/"
        },
        "id": "G5T5uCM6Iwhz",
        "outputId": "fd3eceb3-147c-46cf-9844-380452842ec5"
      },
      "execution_count": 15,
      "outputs": [
        {
          "output_type": "stream",
          "name": "stdout",
          "text": [
            "\n",
            "Results with threshold 0.5:\n",
            "\n",
            "Lion:\n",
            "accuracy: 0.716\n",
            "precision: 1.000\n",
            "recall: 0.157\n",
            "f1: 0.272\n",
            "\n",
            "Tiger:\n",
            "accuracy: 0.665\n",
            "precision: 1.000\n",
            "recall: 0.054\n",
            "f1: 0.102\n",
            "\n",
            "Leopard:\n",
            "accuracy: 0.710\n",
            "precision: 1.000\n",
            "recall: 0.061\n",
            "f1: 0.116\n"
          ]
        }
      ]
    },
    {
      "cell_type": "markdown",
      "source": [
        "Papildomai: preciziškumo (precision) ir atkūrimo (recall) santykį atvaizduojame diagramoje."
      ],
      "metadata": {
        "id": "1gU60nuyhF00"
      }
    },
    {
      "cell_type": "code",
      "source": [
        "class_names=['lion', 'tiger', 'leopard']\n",
        "plt.figure(figsize=(10, 6))\n",
        "\n",
        "colors = ['r', 'g', 'b']\n",
        "\n",
        "for cls, color in zip(class_names, colors):\n",
        "    precisions = []\n",
        "    recalls = []\n",
        "\n",
        "    for threshold in np.linspace(0, 1, 1000):\n",
        "        metrics = calculate_metrics(results, threshold)\n",
        "        precisions.append(metrics[cls]['precision'])\n",
        "        recalls.append(metrics[cls]['recall'])\n",
        "\n",
        "    plt.plot(recalls, precisions, color=color, label=cls.capitalize())\n",
        "\n",
        "plt.xlabel('Recall')\n",
        "plt.ylabel('Precision')\n",
        "plt.title('Precision-Recall Curves')\n",
        "plt.legend()\n",
        "plt.grid(True)\n",
        "plt.show()"
      ],
      "metadata": {
        "colab": {
          "base_uri": "https://localhost:8080/",
          "height": 564
        },
        "id": "gIB6LU_8TqJn",
        "outputId": "fc08c5f1-809e-4773-dc84-54d16fec39a3"
      },
      "execution_count": 28,
      "outputs": [
        {
          "output_type": "display_data",
          "data": {
            "text/plain": [
              "<Figure size 1000x600 with 1 Axes>"
            ],
            "image/png": "[encoded data removed]"
          },
          "metadata": {}
        }
      ]
    }
  ]
}