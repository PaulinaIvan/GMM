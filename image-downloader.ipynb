{
  "cells": [
    {
      "cell_type": "markdown",
      "metadata": {
        "id": "view-in-github",
        "colab_type": "text"
      },
      "source": [
        "<a href=\"https://colab.research.google.com/github/PaulinaIvan/GMM/blob/master/image-downloader.ipynb\" target=\"_parent\"><img src=\"https://colab.research.google.com/assets/colab-badge.svg\" alt=\"Open In Colab\"/></a>"
      ]
    },
    {
      "cell_type": "markdown",
      "source": [
        "Nuotraukų parsisiuntėjas į GoogleDrive iš V6 OpenImages"
      ],
      "metadata": {
        "id": "SB2hr1Pg4KR9"
      }
    },
    {
      "cell_type": "code",
      "source": [
        "from google.colab import drive\n",
        "drive.mount('/content/drive')"
      ],
      "metadata": {
        "id": "sOxxWsYG0j3A",
        "outputId": "1f006f94-9c25-43bd-a1d3-44cb50759ac7",
        "colab": {
          "base_uri": "https://localhost:8080/"
        }
      },
      "execution_count": 2,
      "outputs": [
        {
          "output_type": "stream",
          "name": "stdout",
          "text": [
            "Drive already mounted at /content/drive; to attempt to forcibly remount, call drive.mount(\"/content/drive\", force_remount=True).\n"
          ]
        }
      ]
    },
    {
      "cell_type": "code",
      "execution_count": 3,
      "metadata": {
        "id": "otqJfr3U0Vby"
      },
      "outputs": [],
      "source": [
        "import pandas as pd\n",
        "import requests\n",
        "import os\n",
        "from concurrent.futures import ThreadPoolExecutor\n",
        "import time\n",
        "from tqdm import tqdm"
      ]
    },
    {
      "cell_type": "markdown",
      "metadata": {
        "id": "JExl6fyd0Vbz"
      },
      "source": [
        "Galima nurodyti norimą klasę, nuotraukų kiekį ir direktoriją (nebūtina)."
      ]
    },
    {
      "cell_type": "code",
      "execution_count": 4,
      "metadata": {
        "id": "iKfNTdvK0Vbz",
        "outputId": "02b23a52-3e1f-4c54-ad5a-5066a3617608",
        "colab": {
          "base_uri": "https://localhost:8080/"
        }
      },
      "outputs": [
        {
          "output_type": "stream",
          "name": "stdout",
          "text": [
            "Images will be saved to: /content/drive/MyDrive/ColabNotebooks/car\n"
          ]
        }
      ],
      "source": [
        "TARGET_CLASS = \"Car\"\n",
        "NUM_IMAGES = 2\n",
        "OUTPUT_DIR = None    # Jei None, bus parsiųsta į aplanką <target_class>\n",
        "FULL_DIR = f\"/content/drive/MyDrive/ColabNotebooks/{OUTPUT_DIR}\"\n",
        "\n",
        "ANNOTATION_URL = \"https://storage.googleapis.com/openimages/v6/oidv6-train-annotations-bbox.csv\"\n",
        "CLASS_DESCRIPTIONS_URL = \"https://storage.googleapis.com/openimages/v6/oidv6-class-descriptions.csv\"\n",
        "IMAGES_URL = \"https://storage.googleapis.com/openimages/v6/oidv6-train-images-with-labels-with-rotation.csv\"\n",
        "\n",
        "if OUTPUT_DIR is None:\n",
        "    FULL_DIR = f\"/content/drive/MyDrive/ColabNotebooks/{TARGET_CLASS.lower()}\"\n",
        "os.makedirs(FULL_DIR, exist_ok=True)\n",
        "print(f\"Images will be saved to: {FULL_DIR}\")"
      ]
    },
    {
      "cell_type": "markdown",
      "metadata": {
        "id": "OjcbNuUF0Vb0"
      },
      "source": [
        "CSV parsisiuntimai (galima praleisti, jei tai daryta anksčiau)"
      ]
    },
    {
      "cell_type": "code",
      "execution_count": 5,
      "metadata": {
        "id": "7BzkCpV80Vb0",
        "outputId": "0b19e702-6566-47ce-b9e0-3642818ad08d",
        "colab": {
          "base_uri": "https://localhost:8080/"
        }
      },
      "outputs": [
        {
          "output_type": "stream",
          "name": "stdout",
          "text": [
            "Loading class descriptions...\n",
            "Found class ID for 'Car': /m/0k4j\n"
          ]
        }
      ],
      "source": [
        "print(\"Loading class descriptions...\")\n",
        "class_desc_dtypes = {\n",
        "    'LabelName': 'string',\n",
        "    'DisplayName': 'string'\n",
        "}\n",
        "class_descriptions = pd.read_csv(CLASS_DESCRIPTIONS_URL, dtype=class_desc_dtypes)\n",
        "try:\n",
        "    class_id = class_descriptions[class_descriptions['DisplayName'] == TARGET_CLASS]['LabelName'].iloc[0]\n",
        "    print(f\"Found class ID for '{TARGET_CLASS}': {class_id}\")\n",
        "except IndexError:\n",
        "    raise ValueError(f\"Class '{TARGET_CLASS}' not found in OpenImages dataset\")"
      ]
    },
    {
      "cell_type": "code",
      "execution_count": 6,
      "metadata": {
        "id": "YqQ-Z2CL0Vb0",
        "outputId": "161928d1-e533-423d-cec6-385ed747c779",
        "colab": {
          "base_uri": "https://localhost:8080/"
        }
      },
      "outputs": [
        {
          "output_type": "stream",
          "name": "stdout",
          "text": [
            "Loading annotations (chunked)...\n",
            "Found 89465 images containing Car\n"
          ]
        }
      ],
      "source": [
        "print(\"Loading annotations (chunked)...\")\n",
        "import gc\n",
        "\n",
        "chunk_size = 250000  # 12GB\n",
        "annotation_dtypes = {\n",
        "    'ImageID': 'string',\n",
        "    'LabelName': 'string',\n",
        "}\n",
        "relevant_image_ids = set()\n",
        "\n",
        "for chunk in pd.read_csv(ANNOTATION_URL,\n",
        "                        usecols=['ImageID', 'LabelName'],\n",
        "                        dtype=annotation_dtypes,\n",
        "                        chunksize=chunk_size):\n",
        "    matching_rows = chunk[chunk['LabelName'] == class_id]\n",
        "    relevant_image_ids.update(matching_rows['ImageID'].unique())\n",
        "    del matching_rows\n",
        "    gc.collect()\n",
        "\n",
        "print(f\"Found {len(relevant_image_ids)} images containing {TARGET_CLASS}\")"
      ]
    },
    {
      "cell_type": "code",
      "execution_count": 7,
      "metadata": {
        "id": "LzZ1t0Cq0Vb0",
        "outputId": "45a03098-8309-429e-c67f-b6421c797ea2",
        "colab": {
          "base_uri": "https://localhost:8080/"
        }
      },
      "outputs": [
        {
          "output_type": "stream",
          "name": "stdout",
          "text": [
            "Loading image metadata (chunked)...\n",
            "Prepared 2 URLs for download\n"
          ]
        }
      ],
      "source": [
        "print(\"Loading image metadata (chunked)...\")\n",
        "image_dtypes = {\n",
        "    'ImageID': 'string',\n",
        "    'OriginalURL': 'string',\n",
        "}\n",
        "image_urls = []\n",
        "\n",
        "for chunk in pd.read_csv(IMAGES_URL,\n",
        "                        usecols=['ImageID', 'OriginalURL'],\n",
        "                        dtype=image_dtypes,\n",
        "                        chunksize=chunk_size):\n",
        "    matching_rows = chunk[chunk['ImageID'].isin(relevant_image_ids)]\n",
        "    image_urls.extend(matching_rows['OriginalURL'].tolist())\n",
        "    if len(image_urls) >= NUM_IMAGES:\n",
        "        image_urls = image_urls[:NUM_IMAGES]\n",
        "        break\n",
        "\n",
        "print(f\"Prepared {len(image_urls)} URLs for download\")"
      ]
    },
    {
      "cell_type": "code",
      "execution_count": 8,
      "metadata": {
        "id": "hqdOxaSm0Vb1"
      },
      "outputs": [],
      "source": [
        "def download_image(url):\n",
        "    try:\n",
        "        image_id = url.split('/')[-1]\n",
        "        filename = f\"{TARGET_CLASS.lower()}_{image_id}\"\n",
        "        filepath = os.path.join(FULL_DIR, filename)\n",
        "\n",
        "        if os.path.exists(filepath):\n",
        "            return True\n",
        "\n",
        "        response = requests.get(url, stream=True, timeout=10)\n",
        "        if response.status_code == 200:\n",
        "            with open(filepath, 'wb') as f:\n",
        "                for chunk in response.iter_content(chunk_size=8192):\n",
        "                    if chunk:\n",
        "                        f.write(chunk)\n",
        "            return True\n",
        "        return False\n",
        "\n",
        "    except Exception as e:\n",
        "        print(f\"Error downloading {url}: {str(e)}\")\n",
        "        return False"
      ]
    },
    {
      "cell_type": "markdown",
      "metadata": {
        "id": "oQQPdVSm0Vb1"
      },
      "source": [
        "Siunčiamės"
      ]
    },
    {
      "cell_type": "code",
      "execution_count": 10,
      "metadata": {
        "id": "vmiLXBI30Vb1",
        "outputId": "45b646af-a113-4e10-8001-0b18d661e639",
        "colab": {
          "base_uri": "https://localhost:8080/"
        }
      },
      "outputs": [
        {
          "output_type": "stream",
          "name": "stderr",
          "text": [
            "Downloading images: 100%|██████████| 2/2 [00:00<00:00, 20712.61it/s]"
          ]
        },
        {
          "output_type": "stream",
          "name": "stdout",
          "text": [
            "\n",
            "Successfully downloaded 2 Car images to /content/drive/MyDrive/ColabNotebooks/car\n"
          ]
        },
        {
          "output_type": "stream",
          "name": "stderr",
          "text": [
            "\n"
          ]
        }
      ],
      "source": [
        "successful_downloads = 0\n",
        "\n",
        "with ThreadPoolExecutor(max_workers=5) as executor:\n",
        "    futures = []\n",
        "    for url in image_urls:\n",
        "        futures.append(executor.submit(download_image, url))\n",
        "\n",
        "    for future in tqdm(futures, total=len(futures), desc=\"Downloading images\"):\n",
        "        if future.result():\n",
        "            successful_downloads += 1\n",
        "\n",
        "print(f\"\\nSuccessfully downloaded {successful_downloads} {TARGET_CLASS} images to {FULL_DIR}\")"
      ]
    }
  ],
  "metadata": {
    "kernelspec": {
      "display_name": "Python 3",
      "language": "python",
      "name": "python3"
    },
    "language_info": {
      "codemirror_mode": {
        "name": "ipython",
        "version": 3
      },
      "file_extension": ".py",
      "mimetype": "text/x-python",
      "name": "python",
      "nbconvert_exporter": "python",
      "pygments_lexer": "ipython3",
      "version": "3.13.2"
    },
    "colab": {
      "provenance": [],
      "include_colab_link": true
    }
  },
  "nbformat": 4,
  "nbformat_minor": 0
}