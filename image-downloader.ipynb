{
 "cells": [
  {
   "cell_type": "markdown",
   "metadata": {},
   "source": [
    "Nuotrauku parsisiuntėjas iš v6 OpenImages."
   ]
  },
  {
   "cell_type": "code",
   "execution_count": 5,
   "metadata": {},
   "outputs": [],
   "source": [
    "import pandas as pd\n",
    "import requests\n",
    "import os\n",
    "from concurrent.futures import ThreadPoolExecutor\n",
    "import time\n",
    "from tqdm import tqdm"
   ]
  },
  {
   "cell_type": "markdown",
   "metadata": {},
   "source": [
    "Galima nurodyti norimą klasę, nuotraukų kiekį ir direktoriją (nebūtina)."
   ]
  },
  {
   "cell_type": "code",
   "execution_count": 20,
   "metadata": {},
   "outputs": [
    {
     "name": "stdout",
     "output_type": "stream",
     "text": [
      "Images will be saved to: lion\n"
     ]
    }
   ],
   "source": [
    "TARGET_CLASS = \"Lion\" \n",
    "NUM_IMAGES = 300 \n",
    "OUTPUT_DIR = None    # Jei None, bus parsiųsta į aplanką <target_class>\n",
    "\n",
    "ANNOTATION_URL = \"https://storage.googleapis.com/openimages/v6/oidv6-train-annotations-bbox.csv\"\n",
    "CLASS_DESCRIPTIONS_URL = \"https://storage.googleapis.com/openimages/v6/oidv6-class-descriptions.csv\"\n",
    "IMAGES_URL = \"https://storage.googleapis.com/openimages/v6/oidv6-train-images-with-labels-with-rotation.csv\"\n",
    "\n",
    "if OUTPUT_DIR is None:\n",
    "    OUTPUT_DIR = f\"{TARGET_CLASS.lower()}\"\n",
    "os.makedirs(OUTPUT_DIR, exist_ok=True)\n",
    "print(f\"Images will be saved to: {OUTPUT_DIR}\")"
   ]
  },
  {
   "cell_type": "markdown",
   "metadata": {},
   "source": [
    "CSV parsisiuntimai (galima praleisti, jei tai daryt anksčiau)"
   ]
  },
  {
   "cell_type": "code",
   "execution_count": 21,
   "metadata": {},
   "outputs": [
    {
     "name": "stdout",
     "output_type": "stream",
     "text": [
      "Downloading class descriptions...\n"
     ]
    }
   ],
   "source": [
    "print(f\"Downloading class descriptions...\")\n",
    "class_descriptions = pd.read_csv(CLASS_DESCRIPTIONS_URL)"
   ]
  },
  {
   "cell_type": "code",
   "execution_count": 22,
   "metadata": {},
   "outputs": [
    {
     "name": "stdout",
     "output_type": "stream",
     "text": [
      "Downloading annotations (this may take a while)...\n"
     ]
    }
   ],
   "source": [
    "print(f\"Downloading annotations (this may take a while)...\")\n",
    "annotations = pd.read_csv(ANNOTATION_URL)"
   ]
  },
  {
   "cell_type": "code",
   "execution_count": 23,
   "metadata": {},
   "outputs": [
    {
     "name": "stdout",
     "output_type": "stream",
     "text": [
      "Downloading image metadata...\n"
     ]
    }
   ],
   "source": [
    "print(f\"Downloading image metadata...\")\n",
    "images = pd.read_csv(IMAGES_URL)"
   ]
  },
  {
   "cell_type": "markdown",
   "metadata": {},
   "source": [
    "Paruošiam viską parsisiuntimui, randam norimų nuotraukų URL's"
   ]
  },
  {
   "cell_type": "code",
   "execution_count": null,
   "metadata": {},
   "outputs": [],
   "source": [
    "try:\n",
    "    class_id = class_descriptions[class_descriptions['DisplayName'] == TARGET_CLASS]['LabelName'].iloc[0]\n",
    "    print(f\"Found class ID for '{TARGET_CLASS}': {class_id}\")\n",
    "except IndexError:\n",
    "    raise ValueError(f\"Class '{TARGET_CLASS}' not found in OpenImages dataset\")\n",
    "\n",
    "class_annotations = annotations[annotations['LabelName'] == class_id]\n",
    "class_image_ids = class_annotations['ImageID'].unique()\n",
    "print(f\"Found {len(class_image_ids)} images containing {TARGET_CLASS}\")\n",
    "\n",
    "class_images = images[images['ImageID'].isin(class_image_ids)]\n",
    "image_urls = class_images['OriginalURL'].tolist()[:NUM_IMAGES]\n",
    "print(f\"Prepared {len(image_urls)} URLs for download\")"
   ]
  },
  {
   "cell_type": "code",
   "execution_count": null,
   "metadata": {},
   "outputs": [],
   "source": [
    "def download_image(url):\n",
    "    \"\"\"Download a single image\"\"\"\n",
    "    try:\n",
    "        # Generate filename from URL\n",
    "        image_id = url.split('/')[-1]\n",
    "        filename = f\"{TARGET_CLASS.lower()}_{image_id}\"\n",
    "        filepath = os.path.join(OUTPUT_DIR, filename)\n",
    "        \n",
    "        # Skip if already downloaded\n",
    "        if os.path.exists(filepath):\n",
    "            return True\n",
    "        \n",
    "        # Download image\n",
    "        response = requests.get(url, stream=True, timeout=10)\n",
    "        if response.status_code == 200:\n",
    "            with open(filepath, 'wb') as f:\n",
    "                for chunk in response.iter_content(chunk_size=8192):\n",
    "                    if chunk:\n",
    "                        f.write(chunk)\n",
    "            return True\n",
    "        return False\n",
    "        \n",
    "    except Exception as e:\n",
    "        print(f\"Error downloading {url}: {str(e)}\")\n",
    "        return False"
   ]
  },
  {
   "cell_type": "markdown",
   "metadata": {},
   "source": [
    "Siunčiamės"
   ]
  },
  {
   "cell_type": "code",
   "execution_count": null,
   "metadata": {},
   "outputs": [],
   "source": [
    "successful_downloads = 0\n",
    "\n",
    "with ThreadPoolExecutor(max_workers=5) as executor:\n",
    "    futures = []\n",
    "    for url in image_urls:\n",
    "        futures.append(executor.submit(download_image, url))\n",
    "    \n",
    "    # Show progress bar\n",
    "    for future in tqdm(futures, total=len(futures), desc=\"Downloading images\"):\n",
    "        if future.result():\n",
    "            successful_downloads += 1\n",
    "\n",
    "print(f\"\\nSuccessfully downloaded {successful_downloads} {TARGET_CLASS} images to {OUTPUT_DIR}\")"
   ]
  }
 ],
 "metadata": {
  "kernelspec": {
   "display_name": "Python 3",
   "language": "python",
   "name": "python3"
  },
  "language_info": {
   "codemirror_mode": {
    "name": "ipython",
    "version": 3
   },
   "file_extension": ".py",
   "mimetype": "text/x-python",
   "name": "python",
   "nbconvert_exporter": "python",
   "pygments_lexer": "ipython3",
   "version": "3.13.2"
  }
 },
 "nbformat": 4,
 "nbformat_minor": 4
}
